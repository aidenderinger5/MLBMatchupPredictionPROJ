{
  "cells": [
    {
      "cell_type": "code",
      "execution_count": null,
      "metadata": {
        "id": "q10oyo9vZFQp"
      },
      "outputs": [],
      "source": [
        "import numpy as np\n",
        "import pandas as pd\n",
        "!pip install pybaseball\n",
        "import pybaseball\n",
        "from matplotlib import pyplot as plt\n",
        "from pybaseball import statcast\n",
        "from pybaseball import playerid_reverse_lookup, plot_stadium\n",
        "import seaborn as sns\n",
        "import xgboost as xgb\n",
        "from sklearn.metrics import classification_report\n",
        "from sklearn.model_selection import train_test_split\n",
        "from sklearn.preprocessing import LabelEncoder\n",
        "import requests\n",
        "from PIL import Image\n",
        "from io import BytesIO\n",
        "from matplotlib.offsetbox import OffsetImage, AnnotationBbox\n",
        "from sklearn.neighbors import NearestNeighbors\n",
        "from sklearn.preprocessing import StandardScaler"
      ]
    },
    {
      "cell_type": "code",
      "execution_count": null,
      "metadata": {
        "id": "r-Q8vVyfaTVk"
      },
      "outputs": [],
      "source": [
        "overallBattingStats = pd.read_csv('batting_and_cumulative.csv')\n",
        "totalPitchingStats = pd.read_csv('tot_pitching.csv')\n",
        "FourSeamBatting = pd.read_csv('4-Seam-FB_stats.csv')\n",
        "changeupBatting = pd.read_csv('changeup_stats.csv')\n",
        "curveballBatting = pd.read_csv('curveball_stats.csv')\n",
        "cutterBatting = pd.read_csv('cutter_stats.csv')\n",
        "sinkerBatting = pd.read_csv('sinker_stats.csv')\n",
        "sliderBatting = pd.read_csv('slider_stats.csv')\n",
        "splitFingerBatting = pd.read_csv('split-finger_stats.csv')\n",
        "sweeperBatting = pd.read_csv('sweeper_stats.csv')"
      ]
    },
    {
      "cell_type": "code",
      "execution_count": null,
      "metadata": {
        "collapsed": true,
        "id": "EvdfMajIHvVI"
      },
      "outputs": [],
      "source": [
        "# Most important part of the code; choosing the range of games.\n",
        "# Larger date range = Better results (albeit almost all of the code runs a lot slower that way)\n",
        "\n",
        "start_date = '2024-04-01'\n",
        "end_date = '2024-04-02'\n",
        "statcastData = statcast(start_dt=start_date, end_dt=end_date)"
      ]
    },
    {
      "cell_type": "code",
      "execution_count": null,
      "metadata": {
        "collapsed": true,
        "id": "AkDi5ejYHy0W"
      },
      "outputs": [],
      "source": [
        "statcastData = statcastData.rename(columns={'batter': 'batter_id', 'pitcher': 'pitcher_id'})\n",
        "statcastData['batter_id'] = statcastData['batter_id'].astype(str)\n",
        "statcastData['pitcher_id'] = statcastData['pitcher_id'].astype(str)"
      ]
    },
    {
      "cell_type": "code",
      "execution_count": null,
      "metadata": {
        "id": "Sm9H88GonjUX"
      },
      "outputs": [],
      "source": [
        "def cleanNames(colName):\n",
        "    colName.columns = colName.columns.str.strip()\n",
        "    colName.columns = colName.columns.str.replace(' ', '_', regex=False)\n",
        "    colName.columns = colName.columns.str.replace(',', '', regex=False)\n",
        "    return colName"
      ]
    },
    {
      "cell_type": "code",
      "execution_count": null,
      "metadata": {
        "id": "6W4wTUZXnup0"
      },
      "outputs": [],
      "source": [
        "overallBattingStats = cleanNames(overallBattingStats)\n",
        "totalPitchingStats = cleanNames(totalPitchingStats)\n",
        "FourSeamBatting = cleanNames(FourSeamBatting)\n",
        "changeupBatting = cleanNames(changeupBatting)\n",
        "curveballBatting = cleanNames(curveballBatting)\n",
        "cutterBatting = cleanNames(cutterBatting)\n",
        "sinkerBatting = cleanNames(sinkerBatting)\n",
        "sliderBatting = cleanNames(sliderBatting)\n",
        "splitFingerBatting = cleanNames(splitFingerBatting)\n",
        "sweeperBatting = cleanNames(sweeperBatting)\n",
        "\n",
        "# Cleans the name formatting that Baseball Savant gives so it can be reformatted and renamed easier"
      ]
    },
    {
      "cell_type": "code",
      "execution_count": null,
      "metadata": {
        "id": "6ZDnjSfGeO7G"
      },
      "outputs": [],
      "source": [
        "overallBattingStats = overallBattingStats.rename(columns={\n",
        "    'ab': 'overallABBat',\n",
        "    'pa': 'overallPABat',\n",
        "    'hit': 'overallHitBat',\n",
        "    'single': 'overallSingleBat',\n",
        "    'double': 'overallDoubleBat',\n",
        "    'triple': 'overallTripleBat',\n",
        "    'home_run': 'overallHomeRunBat',\n",
        "    'batting_avg': 'overallAVGBat',\n",
        "    'last_name_first_name': 'last_name_first_name_overall',\n",
        "\n",
        "})\n",
        "\n",
        "totalPitchingStats = totalPitchingStats.rename(columns={\n",
        "    'ab': 'overallABPitch',\n",
        "    'pitch_count': 'overallPAPitch',\n",
        "    'hit': 'overallHitPitch',\n",
        "    'single': 'overallSinglePitch',\n",
        "    'double':'overallDoublePitch',\n",
        "    'triple': 'overallTriplePitch',\n",
        "    'home_run':'overallHomeRunPitch',\n",
        "    'batting_avg':'overallAVGPitch',\n",
        "    'last_name_first_name': 'last_name_first_name_pitching',\n",
        "\n",
        "})\n"
      ]
    },
    {
      "cell_type": "code",
      "execution_count": null,
      "metadata": {
        "id": "-CesRMGvLuQ2"
      },
      "outputs": [],
      "source": [
        "def rename_pitch_stats(df, pitch_type):\n",
        "    return df.rename(columns={\n",
        "        'player_id': 'batter_id',\n",
        "        'run_value_per_100': f'run_value_per_100vs{pitch_type}',\n",
        "        'run_value': f'run_valuevs{pitch_type}',\n",
        "        'pitches': f'pitchesvs{pitch_type}',\n",
        "        'pitch_usage': f'pitch_usagevs{pitch_type}',\n",
        "        'pa': f'pavs{pitch_type}',\n",
        "        'pitch_name': f'pitch_namevs{pitch_type}',\n",
        "        'team_name_alt': f'team_name_altvs{pitch_type}',\n",
        "        'pitch_type': f'pitch_typevs{pitch_type}',\n",
        "        'ba': f'ba_vs_{pitch_type}',\n",
        "        'slg': f'slg_vs_{pitch_type}',\n",
        "        'woba': f'woba_vs_{pitch_type}',\n",
        "        'whiff_percent': f'whiff_percentvs{pitch_type}',\n",
        "        'k_percent': f'k_percentvs{pitch_type}',\n",
        "        'put_away': f'put_awayvs{pitch_type}',\n",
        "        'est_ba': f'est_ba_vs{pitch_type}',\n",
        "        'est_slg': f'est_slg_vs{pitch_type}',\n",
        "        'est_woba': f'est_woba_vs{pitch_type}',\n",
        "        'hard_hit_percent': f'hard_hit_percentvs{pitch_type}',\n",
        "        'last_name_first_name': f'last_name_first_name_{pitch_type}',\n",
        "    })\n",
        "\n",
        "FourSeamBatting = rename_pitch_stats(FourSeamBatting, '4seam')\n",
        "changeupBatting = rename_pitch_stats(changeupBatting, 'changeup')\n",
        "curveballBatting = rename_pitch_stats(curveballBatting, 'curveball')\n",
        "cutterBatting = rename_pitch_stats(cutterBatting, 'cutter')\n",
        "sinkerBatting = rename_pitch_stats(sinkerBatting, 'sinker')\n",
        "sliderBatting = rename_pitch_stats(sliderBatting, 'slider')\n",
        "splitFingerBatting = rename_pitch_stats(splitFingerBatting, 'splitfinger')\n",
        "sweeperBatting = rename_pitch_stats(sweeperBatting, 'sweeper')"
      ]
    },
    {
      "cell_type": "code",
      "execution_count": null,
      "metadata": {
        "id": "LDWi1n-m1Vmt"
      },
      "outputs": [],
      "source": [
        "overallBattingStats = overallBattingStats.rename(columns={'player_id': 'batter_id'})\n",
        "totalPitchingStats = totalPitchingStats.rename(columns={'player_id': 'pitcher_id'})\n",
        "overallBattingStats['batter_id'] = overallBattingStats['batter_id'].astype(str)\n",
        "totalPitchingStats['pitcher_id'] = totalPitchingStats['pitcher_id'].astype(str)"
      ]
    },
    {
      "cell_type": "code",
      "execution_count": null,
      "metadata": {
        "id": "Eh4UmAv3OE5L"
      },
      "outputs": [],
      "source": [
        "overallBattingStats = overallBattingStats.drop(columns=['year'], errors='ignore')\n",
        "totalPitchingStats = totalPitchingStats.drop(columns=['year'], errors='ignore')"
      ]
    },
    {
      "cell_type": "code",
      "execution_count": null,
      "metadata": {
        "collapsed": true,
        "id": "oDYILCtPPlbf"
      },
      "outputs": [],
      "source": [
        "dataframes = [\n",
        "    statcastData,\n",
        "    overallBattingStats,\n",
        "    totalPitchingStats,\n",
        "    FourSeamBatting,\n",
        "    changeupBatting,\n",
        "    curveballBatting,\n",
        "    cutterBatting,\n",
        "    sinkerBatting,\n",
        "    sliderBatting,\n",
        "    splitFingerBatting,\n",
        "    sweeperBatting\n",
        "]\n",
        "for df in dataframes:\n",
        "    if 'batter_id' in df.columns:\n",
        "        df['batter_id'] = df['batter_id'].astype(str)\n",
        "    if 'pitcher_id' in df.columns:\n",
        "        df['pitcher_id'] = df['pitcher_id'].astype(str)\n",
        "\n",
        "for df_name, df in zip(['statcastData', 'overallBattingStats', 'totalPitchingStats',\n",
        "                        'FourSeamBatting', 'changeupBatting', 'curveballBatting',\n",
        "                        'cutterBatting', 'sinkerBatting', 'sliderBatting',\n",
        "                        'splitFingerBatting', 'sweeperBatting'], dataframes):\n",
        "    if 'batter_id' in df.columns:\n",
        "        print(f\"{df_name} 'batter_id' dtype: {df['batter_id'].dtype}\")\n",
        "    if 'pitcher_id' in df.columns:\n",
        "        print(f\"{df_name} 'pitcher_id' dtype: {df['pitcher_id'].dtype}\")"
      ]
    },
    {
      "cell_type": "code",
      "execution_count": null,
      "metadata": {
        "collapsed": true,
        "id": "4s3TkowyP7P1"
      },
      "outputs": [],
      "source": [
        "pitchTypes = ['4seam', 'changeup', 'curveball', 'cutter', 'sinker', 'slider', 'splitfinger', 'sweeper']\n",
        "statcastData = statcastData.merge(overallBattingStats, on='batter_id', how='left')\n",
        "statcastData = statcastData.merge(totalPitchingStats, on='pitcher_id', how='left')\n",
        "pitchTypeMapping = {\n",
        "    '4seam': 'FourSeamBatting',\n",
        "    'changeup': 'changeupBatting',\n",
        "    'curveball': 'curveballBatting',\n",
        "    'cutter': 'cutterBatting',\n",
        "    'sinker': 'sinkerBatting',\n",
        "    'slider': 'sliderBatting',\n",
        "    'splitfinger': 'splitFingerBatting',\n",
        "    'sweeper': 'sweeperBatting',\n",
        "}\n",
        "for pitch in pitchTypes:\n",
        "    frameName = pitchTypeMapping[pitch]\n",
        "    pitchFrame = globals()[frameName][['batter_id', f'ba_vs_{pitch}', f'slg_vs_{pitch}', f'woba_vs_{pitch}']]\n",
        "    statcastData = statcastData.merge(pitchFrame, on='batter_id', how='left')\n",
        "\n",
        "for pitch in pitchTypes:\n",
        "    statcastData[f'ba_vs_{pitch}'] = statcastData[f'ba_vs_{pitch}'].fillna(0)\n",
        "    statcastData[f'slg_vs_{pitch}'] = statcastData[f'slg_vs_{pitch}'].fillna(0)\n",
        "    statcastData[f'woba_vs_{pitch}'] = statcastData[f'woba_vs_{pitch}'].fillna(0)\n",
        "\n",
        "descriptionFeatures = [f'ba_vs_{pitch}' for pitch in pitchTypeMapping] + \\\n",
        "                      [f'slg_vs_{pitch}' for pitch in pitchTypeMapping] + \\\n",
        "                      [f'woba_vs_{pitch}' for pitch in pitchTypeMapping]"
      ]
    },
    {
      "cell_type": "code",
      "execution_count": null,
      "metadata": {
        "id": "M-fUJ6xPPyrq"
      },
      "outputs": [],
      "source": [
        "pitchDescript = ['hit_into_play', 'blocked_ball', 'swinging_strike', 'called_strike', 'ball', 'foul']\n",
        "\n",
        "for desc in pitchDescript:\n",
        "    statcastData[f'description_{desc}'] = statcastData['description'].apply(lambda x: 1 if x == desc else 0)"
      ]
    },
    {
      "cell_type": "code",
      "execution_count": null,
      "metadata": {
        "id": "LYZ8Y-FVC3Zx"
      },
      "outputs": [],
      "source": [
        "batterFeatures = [\n",
        "    'overallABBat', 'overallPABat', 'overallHitBat', 'overallSingleBat', 'overallDoubleBat',\n",
        "    'overallTripleBat', 'overallHomeRunBat', 'overallAVGBat']\n",
        "pitcherFeatures = [\n",
        "    'overallABPitch', 'overallPAPitch', 'overallHitPitch', 'overallSinglePitch',\n",
        "    'overallDoublePitch', 'overallTriplePitch', 'overallHomeRunPitch',\n",
        "    'overallAVGPitch']"
      ]
    },
    {
      "cell_type": "code",
      "source": [
        "statcastData['plate_appearance_id'] = (statcastData['game_pk'].astype(str) + '_' + statcastData['at_bat_number'].astype(str))"
      ],
      "metadata": {
        "id": "XhCb7VziThY-"
      },
      "execution_count": null,
      "outputs": []
    },
    {
      "cell_type": "code",
      "execution_count": null,
      "metadata": {
        "id": "BkhMu_K02gML"
      },
      "outputs": [],
      "source": [
        "featureComb = batterFeatures + pitcherFeatures + descriptionFeatures + ['balls', 'strikes']"
      ]
    },
    {
      "cell_type": "markdown",
      "metadata": {
        "id": "FysFjqIVhYQ2"
      },
      "source": [
        "run_value_per_100\n",
        "run_value\n",
        "pitches\n",
        "pitch_usage\n",
        "pa\n",
        "ba\n",
        "slg\n",
        "woba\n",
        "whiff_percent\n",
        "k_percent\n",
        "put_away\n",
        "est_ba\n",
        "est_slg\n",
        "est_woba\n",
        "hard_hit_percent\n",
        "\n",
        "ab\n",
        "pa\n",
        "hit\n",
        "single\n",
        "double\n",
        "triple\n",
        "home_run\n",
        "batting_avg"
      ]
    },
    {
      "cell_type": "code",
      "execution_count": null,
      "metadata": {
        "id": "kvAUisfA92ui"
      },
      "outputs": [],
      "source": [
        "pitchDescript = ['hit_into_play', 'blocked_ball', 'swinging_strike', 'called_strike', 'ball', 'foul']\n",
        "pitchOutcomes = {\n",
        "    'hit_into_play': 0,\n",
        "    'swinging_strike': 1,\n",
        "    'called_strike': 1,\n",
        "    'blocked_ball': 2,\n",
        "    'ball': 2,\n",
        "    'foul': 3\n",
        "    }"
      ]
    },
    {
      "cell_type": "code",
      "execution_count": null,
      "metadata": {
        "id": "DdKPJBUjFlbH"
      },
      "outputs": [],
      "source": [
        "pOut = statcastData.copy()\n",
        "pOut['outcome'] = pOut['description'].map(pitchOutcomes)\n",
        "pOut = pOut.dropna(subset=['outcome']).reset_index(drop=True)\n",
        "statcastData['plate_appearance_id'] = (statcastData['game_pk'].astype(str) + '_' + statcastData['at_bat_number'].astype(str))"
      ]
    },
    {
      "cell_type": "code",
      "execution_count": null,
      "metadata": {
        "id": "pb7aekFy82xI"
      },
      "outputs": [],
      "source": [
        "XOut = pOut[featureComb]\n",
        "YOut = pOut['outcome']\n",
        "\n",
        "XTrainOut, XValOut, yTrainOut, yValOut = train_test_split(\n",
        "    XOut, YOut, test_size=0.2, random_state=42, stratify=YOut)\n",
        "\n",
        "model = xgb.XGBClassifier(\n",
        "    n_estimators=200,\n",
        "    objective='multi:softprob',\n",
        "    num_class=len(YOut.unique()),\n",
        "    random_state=42,\n",
        "    eval_metric='mlogloss')\n",
        "\n",
        "model.fit(XTrainOut, yTrainOut)\n",
        "yPred = model.predict(XValOut)\n",
        "print(\"Classification Report for Specific Matchup Model:\")\n",
        "print(classification_report(yValOut, yPred))"
      ]
    },
    {
      "cell_type": "code",
      "execution_count": null,
      "metadata": {
        "id": "uHG9xYdaM5d2"
      },
      "outputs": [],
      "source": [
        "pitchTypeMap = {\n",
        "    '4-Seam Fastball': 0,\n",
        "    'Changeup': 1,\n",
        "    'Curveball': 2,\n",
        "    'Cutter': 3,\n",
        "    'Sinker': 4,\n",
        "    'Slider': 5,\n",
        "    'Split-Finger': 6,\n",
        "    'Sweeper': 7,\n",
        "}"
      ]
    },
    {
      "cell_type": "code",
      "execution_count": null,
      "metadata": {
        "id": "egSNuqtIJ8mI"
      },
      "outputs": [],
      "source": [
        "typePa = statcastData.copy()\n",
        "typePa['typeOutcomes'] = typePa['pitch_name'].map(pitchTypeMap)\n",
        "typePa = typePa.dropna(subset=['typeOutcomes']).reset_index(drop=True)"
      ]
    },
    {
      "cell_type": "code",
      "execution_count": null,
      "metadata": {
        "id": "WbEzgPHNNSXg"
      },
      "outputs": [],
      "source": [
        "XType = typePa[featureComb]\n",
        "YType = typePa['typeOutcomes']\n",
        "\n",
        "X_train, X_val, y_train, y_val = train_test_split(\n",
        "    XType, YType, test_size=0.2, random_state=42, stratify=YType)\n",
        "\n",
        "model2 = xgb.XGBClassifier(\n",
        "    n_estimators=200,\n",
        "    objective='multi:softprob',\n",
        "    num_class=len(YType.unique()),\n",
        "    random_state=42,\n",
        "    eval_metric='mlogloss')\n",
        "\n",
        "model2.fit(X_train, y_train)\n",
        "yPredict2 = model2.predict(X_val)\n",
        "print(\"Classification Report for Specific Matchup Model:\")\n",
        "print(classification_report(y_val, yPredict2))"
      ]
    },
    {
      "cell_type": "code",
      "execution_count": null,
      "metadata": {
        "id": "r6_C4llmQJ6l"
      },
      "outputs": [],
      "source": [
        "outcomes = {\n",
        "    'field_out': 0,\n",
        "    'force_out': 0,\n",
        "    'grounded_into_double_play': 0,\n",
        "    'double_play': 0,\n",
        "    'fielders_choice_out': 0,\n",
        "    'sac_fly': 0,\n",
        "    'sac_bunt': 0,\n",
        "    'fielders_choice': 0,\n",
        "    'strikeout_double_play': 0,\n",
        "    'triple_play': 0,\n",
        "    'other_out': 0,\n",
        "    'field_error': 0,\n",
        "    'single': 1,\n",
        "    'double': 2,\n",
        "    'triple': 3,\n",
        "    'home_run': 4,\n",
        "    'catcher_interf': 5,\n",
        "}\n",
        "irrelevantOutcomes = [\n",
        "    'truncated_pa',\n",
        "    'sac_bunt',\n",
        "    'field_error',\n",
        "]"
      ]
    },
    {
      "cell_type": "code",
      "execution_count": null,
      "metadata": {
        "id": "9JUhXD3kQvsH"
      },
      "outputs": [],
      "source": [
        "resultPA = statcastData.copy()\n",
        "resultPA['outcome'] = resultPA['events'].map(outcomes)\n",
        "resultPA = resultPA[~resultPA['events'].isin(irrelevantOutcomes)].reset_index(drop=True)\n",
        "resultPA = resultPA.dropna(subset=['outcome']).reset_index(drop=True)"
      ]
    },
    {
      "cell_type": "code",
      "source": [
        "ballPlayData = resultPA[resultPA['description'] == 'hit_into_play'].copy()\n",
        "ballPlayData['binaryHit'] = ballPlayData['outcome'].apply(lambda x: 1 if x in [1,2,3,4] else 0)"
      ],
      "metadata": {
        "id": "t_XP9zBPdW0X"
      },
      "execution_count": null,
      "outputs": []
    },
    {
      "cell_type": "code",
      "execution_count": null,
      "metadata": {
        "id": "CNZ5izZgQ3MJ"
      },
      "outputs": [],
      "source": [
        "XHitOut = ballPlayData[featureComb]\n",
        "yHitOut = ballPlayData['binaryHit']\n",
        "\n",
        "XTrainHO, XValHO, yTrainHO, yValHO = train_test_split(\n",
        "    XHitOut, yHitOut, test_size=0.2, random_state=42, stratify=yHitOut)\n",
        "\n",
        "model3 = xgb.XGBClassifier(\n",
        "    n_estimators=200,\n",
        "    objective='binary:logistic',\n",
        "    random_state=42,\n",
        "    eval_metric='logloss')\n",
        "model3.fit(XTrainHO, yTrainHO)\n",
        "yPredHO = model3.predict(XValHO)\n",
        "print(\"Classification Report for Hit vs Out (Model3):\")\n",
        "print(classification_report(yValHO, yPredHO))"
      ]
    },
    {
      "cell_type": "code",
      "source": [
        "hitData = ballPlayData[ballPlayData['binaryHit'] == 1].copy()\n",
        "hitMapping = {1:0, 2:1, 3:2, 4:3}\n",
        "hitData['hitType'] = hitData['outcome'].map(hitMapping)\n",
        "\n",
        "XHitType = hitData[featureComb]\n",
        "yHitType = hitData['hitType']\n",
        "\n",
        "XTrainHIT, XValHIT, yTrainHIT, yValHIT = train_test_split(\n",
        "    XHitType, yHitType, test_size=0.2, random_state=42, stratify=yHitType)\n",
        "\n",
        "model4 = xgb.XGBClassifier(\n",
        "    n_estimators=200,\n",
        "    objective='multi:softprob',\n",
        "    num_class=4,\n",
        "    random_state=42,\n",
        "    eval_metric='mlogloss')\n",
        "model4.fit(XTrainHIT, yTrainHIT)\n",
        "yPredHIT = model4.predict(XValHIT)\n",
        "print(\"Classification Report for Hit Type (Model4):\")\n",
        "print(classification_report(yValHIT, yPredHIT))"
      ],
      "metadata": {
        "id": "UQKRa3jZdiaJ"
      },
      "execution_count": null,
      "outputs": []
    },
    {
      "cell_type": "code",
      "source": [
        "simPitcherFeatures = pitcherFeatures\n",
        "simBatterFeatures = batterFeatures\n",
        "\n",
        "pitcher_data = totalPitchingStats[simPitcherFeatures].fillna(0)\n",
        "pitcher_ids = totalPitchingStats['pitcher_id'].astype(str).values\n",
        "\n",
        "batter_data = overallBattingStats[simBatterFeatures].fillna(0)\n",
        "batter_ids = overallBattingStats['batter_id'].astype(str).values\n",
        "\n",
        "scaler_pitcher = StandardScaler()\n",
        "scaled_pitcher_data = scaler_pitcher.fit_transform(pitcher_data)\n",
        "\n",
        "scaler_batter = StandardScaler()\n",
        "scaled_batter_data = scaler_batter.fit_transform(batter_data)\n",
        "\n",
        "knn_pitcher = NearestNeighbors(n_neighbors=5, metric='euclidean')\n",
        "knn_pitcher.fit(scaled_pitcher_data)\n",
        "\n",
        "knn_batter = NearestNeighbors(n_neighbors=5, metric='euclidean')\n",
        "knn_batter.fit(scaled_batter_data)"
      ],
      "metadata": {
        "id": "K2rOwbExxYTl"
      },
      "execution_count": null,
      "outputs": []
    },
    {
      "cell_type": "code",
      "source": [
        "def findSimilarBatter(bid):\n",
        "    if bid not in batter_ids:\n",
        "        print(f\"Batter ID {bid} not found in overallBattingStats. Cannot find similar.\")\n",
        "        return None\n",
        "    idx = np.where(batter_ids == bid)[0][0]\n",
        "    batter_vector = scaled_batter_data[idx].reshape(1, -1)\n",
        "    distances, indices = knn_batter.kneighbors(batter_vector, n_neighbors=6)\n",
        "    for i in indices[0]:\n",
        "        neighbor_id = batter_ids[i]\n",
        "        if neighbor_id == bid:\n",
        "            continue\n",
        "        if neighbor_id in statcastData['batter_id'].values:\n",
        "            print(f\"Using similar batter {neighbor_id} instead of {bid}\")\n",
        "            return neighbor_id\n",
        "    print(\"No similar batters found in statcastData.\")\n",
        "    return None"
      ],
      "metadata": {
        "id": "1LdzotPhJr7s"
      },
      "execution_count": null,
      "outputs": []
    },
    {
      "cell_type": "code",
      "source": [
        "def findSimilarPitcher(pid):\n",
        "    if pid not in pitcher_ids:\n",
        "        print(f\"Pitcher ID {pid} not found in totalPitchingStats. Cannot find similar.\")\n",
        "        return None\n",
        "\n",
        "    idx = np.where(pitcher_ids == pid)[0][0]\n",
        "    pitcher_vector = scaled_pitcher_data[idx].reshape(1, -1)\n",
        "    distances, indices = knn_pitcher.kneighbors(pitcher_vector, n_neighbors=6)\n",
        "    for i in indices[0]:\n",
        "        neighbor_id = pitcher_ids[i]\n",
        "        if neighbor_id == pid:\n",
        "            continue\n",
        "        if neighbor_id in statcastData['pitcher_id'].values:\n",
        "            print(f\"Using similar pitcher {neighbor_id} instead of {pid}\")\n",
        "            return neighbor_id\n",
        "    print(\"No similar pitchers found in statcastData.\")\n",
        "    return None"
      ],
      "metadata": {
        "id": "YD3ccseZLpRK"
      },
      "execution_count": null,
      "outputs": []
    },
    {
      "cell_type": "code",
      "source": [
        "hitMappingForPrediction = {0:1, 1:2, 2:3, 3:4}\n",
        "hitMap = {1:'Single',2:'Double',3:'Triple',4:'Home Run'}"
      ],
      "metadata": {
        "id": "VH-AU42Ur7Y0"
      },
      "execution_count": null,
      "outputs": []
    },
    {
      "cell_type": "code",
      "execution_count": null,
      "metadata": {
        "id": "B1tGN3-_RecW"
      },
      "outputs": [],
      "source": [
        "batterID = input(\"Input a Batter ID (Using Baseball Savant IDs): \").strip()\n",
        "pitcherID = input(\"Input a Pitcher ID (Using Baseball Savant IDs): \").strip()\n",
        "\n",
        "hasBatter = batterID in statcastData['batter_id'].values\n",
        "hasPitcher = pitcherID in statcastData['pitcher_id'].values\n",
        "\n",
        "if not hasBatter:\n",
        "    altBatter = findSimilarBatter(batterID)\n",
        "    if altBatter is not None:\n",
        "        batter_id = altBatter\n",
        "        hasBatter = True\n",
        "    else:\n",
        "        print(\"No similar batter found\")\n",
        "        raise SystemExit\n",
        "else:\n",
        "    batter_id = batterID\n",
        "\n",
        "if not hasPitcher:\n",
        "    altPitcher = findSimilarPitcher(pitcherID)\n",
        "    if altPitcher is not None:\n",
        "        pitcher_id = altPitcher\n",
        "        hasPitcher = True\n",
        "    else:\n",
        "        print(\"No similar pitcher found\")\n",
        "        raise SystemExit\n",
        "else:\n",
        "    pitcher_id = pitcherID\n",
        "\n",
        "matchupData = statcastData[(statcastData['batter_id'] == batter_id) & (statcastData['pitcher_id'] == pitcher_id)]\n",
        "\n",
        "if matchupData.empty:\n",
        "    if hasBatter and hasPitcher:\n",
        "        batter_data_row = statcastData[statcastData['batter_id'] == batter_id].iloc[0]\n",
        "        pitcher_data_row = statcastData[statcastData['pitcher_id'] == pitcher_id].iloc[0]\n",
        "\n",
        "        predRow = {}\n",
        "        for bf in batterFeatures + descriptionFeatures:\n",
        "            predRow[bf] = batter_data_row.get(bf, 0)\n",
        "        for pf in pitcherFeatures:\n",
        "            predRow[pf] = pitcher_data_row.get(pf, 0)\n",
        "        predRow['balls'] = 0\n",
        "        predRow['strikes'] = 0\n",
        "        matchupData = pd.DataFrame([predRow])\n",
        "        matchupData = matchupData[featureComb].fillna(0)\n",
        "        print(\"No direct matchup found, finding similar players\")\n",
        "    else:\n",
        "        print(\"No data found for this matchup\")\n",
        "        raise SystemExit\n",
        "else:\n",
        "    matchupData = matchupData.iloc[[0]]\n",
        "    for col in featureComb:\n",
        "        if col not in matchupData.columns:\n",
        "            matchupData[col] = 0\n",
        "    matchupData = matchupData[featureComb].fillna(0)\n",
        "\n",
        "balls = 0\n",
        "strikes = 0\n",
        "pitchSeq = []\n",
        "\n",
        "outcome_map = {0: 'hit_into_play', 1: 'strike', 2: 'ball', 3: 'foul'}\n",
        "pitchTypeMap_inv = {v:k for k,v in pitchTypeMap.items()}\n",
        "\n",
        "finalResult = None\n",
        "finalResultProbs = None\n",
        "\n",
        "while True:\n",
        "    currentFeatures = matchupData.copy()\n",
        "    currentFeatures['balls'] = balls\n",
        "    currentFeatures['strikes'] = strikes\n",
        "    pitchFeatures = currentFeatures[featureComb].values\n",
        "    pitchTypeProbs = model2.predict_proba(pitchFeatures)[0]\n",
        "    pitchTypeClass = np.random.choice(model2.classes_, p=pitchTypeProbs)\n",
        "    pitchTypeName = pitchTypeMap_inv[pitchTypeClass]\n",
        "    pitchOutcomeProbs = model.predict_proba(pitchFeatures)[0]\n",
        "    pitchOutcomeClass = np.random.choice(model.classes_, p=pitchOutcomeProbs)\n",
        "    pitchOutcomeName = outcome_map.get(pitchOutcomeClass, 'unknown')\n",
        "    pitchSeq.append({\n",
        "        'Pitch#': len(pitchSeq) + 1,\n",
        "        'Balls-Strikes': f\"{balls}-{strikes}\",\n",
        "        'Pitch_Type': pitchTypeName,\n",
        "        'pitchTypeProbs': pitchTypeProbs[pitchTypeClass],\n",
        "        'Pitch_Outcome': pitchOutcomeName,\n",
        "        'pitchOutcomeProbs': pitchOutcomeProbs[pitchOutcomeClass],\n",
        "    })\n",
        "\n",
        "    if pitchOutcomeName == 'ball':\n",
        "        balls += 1\n",
        "        if balls == 4:\n",
        "            finalResult = \"Walk\"\n",
        "            break\n",
        "    elif pitchOutcomeName == 'strike':\n",
        "        strikes += 1\n",
        "        if strikes == 3:\n",
        "            finalResult = \"Strikeout\"\n",
        "            break\n",
        "    elif pitchOutcomeName == 'foul':\n",
        "        if strikes < 2:\n",
        "            strikes += 1\n",
        "    elif pitchOutcomeName == 'hit_into_play':\n",
        "        ho_probs = model3.predict_proba(pitchFeatures)[0]\n",
        "        ho_class = np.random.choice([0,1], p=ho_probs)\n",
        "        if ho_class == 0:\n",
        "            finalResult = \"Out\"\n",
        "            finalResultProbabilities = {'Out': ho_probs[0], 'Hit': ho_probs[1]}\n",
        "            break\n",
        "        else:\n",
        "            ht_probs = model4.predict_proba(pitchFeatures)[0]\n",
        "            ht_class_internal = np.random.choice([0,1,2,3], p=ht_probs)\n",
        "            ht_class = hitMappingForPrediction[ht_class_internal]\n",
        "            finalResult = hitMap[ht_class]\n",
        "            finalResultProbabilities = {\n",
        "                'Single': ht_probs[0],\n",
        "                'Double': ht_probs[1],\n",
        "                'Triple': ht_probs[2],\n",
        "                'Home Run': ht_probs[3]\n",
        "            }\n",
        "            break\n",
        "    else:\n",
        "        finalResult = \"Unknown\"\n",
        "        break\n",
        "\n",
        "pitchFrame = pd.DataFrame(pitchSeq)\n",
        "print(pitchFrame.to_string(index=False))\n",
        "print(f\"Final Result:\", {finalResult})\n",
        "\n",
        "if finalResult in ['Single', 'Double', 'Triple', 'Home Run', 'Out'] and finalResultProbabilities is not None:\n",
        "    print(\"\\nFinal Result Probabilities:\")\n",
        "    for res, prob in finalResultProbabilities.items():\n",
        "        print(f\"{res}: {prob:.2f}\")\n",
        "else:\n",
        "    print(\"\\nFinal Result Probabilities: Not available for walk or strikeout\")"
      ]
    },
    {
      "cell_type": "code",
      "source": [
        "try:\n",
        "    batID = int(batter_id)\n",
        "    pitID = int(pitcher_id)\n",
        "except ValueError:\n",
        "    batterRow = statcastData[statcastData['batter_id'] == str(batter_id)]\n",
        "    if not batterRow.empty and 'player_name' in batterRow.columns:\n",
        "        fullName = batterRow['player_name'].dropna().iloc[0]\n",
        "        if ',' in fullName:\n",
        "            last, first = [x.strip().capitalize() for x in fullName.split(',', 1)]\n",
        "            batterName = f\"{first} {last}\"\n",
        "        else:\n",
        "            batterName = fullName\n",
        "    else:\n",
        "        batterName = \"Unknown Batter\"\n",
        "\n",
        "    pitcher_row = statcastData[statcastData['pitcher_id'] == str(pitcher_id)]\n",
        "    if not pitcher_row.empty and 'player_name' in pitcher_row.columns:\n",
        "        full_name = pitcher_row['player_name'].dropna().iloc[0]\n",
        "        if ',' in full_name:\n",
        "            last, first = [x.strip().capitalize() for x in full_name.split(',', 1)]\n",
        "            pitcherName = f\"{first} {last}\"\n",
        "        else:\n",
        "            pitcherName = full_name\n",
        "    else:\n",
        "        pitcherName = \"Unknown Pitcher\"\n",
        "else:\n",
        "    batterInfo = playerid_reverse_lookup([batID], key_type='mlbam')\n",
        "    batterInfo = batterInfo[batterInfo['key_mlbam'] == batID]\n",
        "    if batterInfo.empty:\n",
        "        batter_row = statcastData[statcastData['batter_id'] == str(batter_id)]\n",
        "        if not batter_row.empty and 'player_name' in batter_row.columns:\n",
        "            full_name = batter_row['player_name'].dropna().iloc[0]\n",
        "            if ',' in full_name:\n",
        "                last, first = [x.strip().capitalize() for x in full_name.split(',', 1)]\n",
        "                batterName = f\"{first} {last}\"\n",
        "            else:\n",
        "                batterName = full_name\n",
        "        else:\n",
        "            batterName = \"Unknown Batter\"\n",
        "    else:\n",
        "        batterName = f\"{batterInfo.iloc[0]['name_first'].capitalize()} {batterInfo.iloc[0]['name_last'].capitalize()}\"\n",
        "\n",
        "    pitcherInfo = playerid_reverse_lookup([pitID], key_type='mlbam')\n",
        "    pitcherInfo = pitcherInfo[pitcherInfo['key_mlbam'] == pitID]\n",
        "    if pitcherInfo.empty:\n",
        "        pitcher_row = statcastData[statcastData['pitcher_id'] == str(pitcher_id)]\n",
        "        if not pitcher_row.empty and 'player_name' in pitcher_row.columns:\n",
        "            full_name = pitcher_row['player_name'].dropna().iloc[0]\n",
        "            if ',' in full_name:\n",
        "                last, first = [x.strip().capitalize() for x in full_name.split(',', 1)]\n",
        "                pitcherName = f\"{first} {last}\"\n",
        "            else:\n",
        "                pitcherName = full_name\n",
        "        else:\n",
        "            pitcherName = \"Unknown Pitcher\"\n",
        "    else:\n",
        "        pitcherName = f\"{pitcherInfo.iloc[0]['name_first'].capitalize()} {pitcherInfo.iloc[0]['name_last'].capitalize()}\"\n",
        "\n",
        "batter_image_url = f\"https://img.mlbstatic.com/mlb-photos/image/upload/w_213,q_auto:best,f_auto/v1/people/{batter_id}/headshot/67/current\"\n",
        "pitcher_image_url = f\"https://img.mlbstatic.com/mlb-photos/image/upload/w_213,q_auto:best,f_auto/v1/people/{pitcher_id}/headshot/67/current\"\n",
        "batterImage = None\n",
        "pitcherImage = None\n",
        "\n",
        "try:\n",
        "    response = requests.get(batter_image_url)\n",
        "    if response.status_code == 200:\n",
        "        batterImage = Image.open(BytesIO(response.content))\n",
        "except:\n",
        "    pass\n",
        "\n",
        "try:\n",
        "    response = requests.get(pitcher_image_url)\n",
        "    if response.status_code == 200:\n",
        "        pitcherImage = Image.open(BytesIO(response.content))\n",
        "except:\n",
        "    pass\n",
        "team = 'pirates'\n",
        "ax = plot_stadium(team)\n",
        "fig = ax.figure\n",
        "hc_x, hc_y = None, None\n",
        "if finalResult == 'Single':\n",
        "    x_min, x_max = ax.get_xlim()\n",
        "    y_min, y_max = ax.get_ylim()\n",
        "    hc_x = np.random.uniform(x_min + 75, x_min + 125)\n",
        "    hc_y = np.random.uniform(y_max - 105, y_max - 155)\n",
        "elif finalResult == 'Double':\n",
        "    x_min, x_max = ax.get_xlim()\n",
        "    y_min, y_max = ax.get_ylim()\n",
        "    hc_x = np.random.uniform(x_min + 50, x_min + 200)\n",
        "    hc_y = np.random.uniform(y_max - 150, y_max - 75)\n",
        "elif finalResult == 'Triple':\n",
        "    x_min, x_max = ax.get_xlim()\n",
        "    y_min, y_max = ax.get_ylim()\n",
        "    hc_x = np.random.uniform(x_min + 25, x_max - 25)\n",
        "    hc_y = np.random.uniform(y_min + 50, y_max - 150)\n",
        "elif finalResult == 'Home Run':\n",
        "    x_min, x_max = ax.get_xlim()\n",
        "    y_min, y_max = ax.get_ylim()\n",
        "    hc_x = np.random.uniform(x_min + 100, x_max - 100)\n",
        "    hc_y = np.random.uniform(y_min + 220, y_max)\n",
        "\n",
        "if hc_x is not None and hc_y is not None:\n",
        "    ax.scatter(hc_x, hc_y, color='skyblue', s=150, zorder=5)\n",
        "\n",
        "batter_coords = (1.0, 0.70)\n",
        "pitcher_coords = (1.0, 0.90)\n",
        "\n",
        "if batterImage:\n",
        "    imagebox = OffsetImage(batterImage.resize((60, 60)), zoom=1)\n",
        "    ab = AnnotationBbox(imagebox, batter_coords, frameon=False, xycoords='axes fraction')\n",
        "    ax.add_artist(ab)\n",
        "\n",
        "if pitcherImage:\n",
        "    imagebox = OffsetImage(pitcherImage.resize((60, 60)), zoom=1)\n",
        "    ab = AnnotationBbox(imagebox, pitcher_coords, frameon=False, xycoords='axes fraction')\n",
        "    ax.add_artist(ab)\n",
        "\n",
        "ax.text(.92, 0.6, f\"Batter: {batterName}\", fontsize=8, fontweight='bold', ha='left', va='center', transform=ax.transAxes)\n",
        "ax.text(1.21, 0.80, f\"Pitcher: {pitcherName}\", fontsize=8, fontweight='bold', ha='right', va='center', transform=ax.transAxes)\n",
        "ax.text(0.5, 0.02, f\"Predicted Outcome: {finalResult}\", fontsize=12, fontweight='bold', color='red', ha='center', transform=ax.transAxes)\n",
        "pitchFrame['pitchTypeProbs'] = pitchFrame['pitchTypeProbs'].apply(lambda x: float(x))\n",
        "pitchFrame['pitchOutcomeProbs'] = pitchFrame['pitchOutcomeProbs'].apply(lambda x: float(x))\n",
        "pitchFrame['pitchTypeProbs'] = pitchFrame['pitchTypeProbs'].apply(lambda x: f\"{x:.3f}\")\n",
        "pitchFrame['pitchOutcomeProbs'] = pitchFrame['pitchOutcomeProbs'].apply(lambda x: f\"{x:.3f}\")\n",
        "table_data = pitchFrame[['Pitch#', 'Balls-Strikes', 'Pitch_Type', 'pitchTypeProbs', 'Pitch_Outcome', 'pitchOutcomeProbs']]\n",
        "table_data = table_data.rename(columns={'pitchTypeProbs': 'TProb', 'pitchOutcomeProbs': 'OProb'})\n",
        "table_data = table_data.rename(columns={'Pitch_Type': 'PType', 'Pitch_Outcome': 'POutcome'})\n",
        "table_ax = fig.add_axes([1.0, 0.05, 0.8, 0.15])\n",
        "table_ax.axis('off')\n",
        "table_ax.set_title('Pitch Sequence and Probabilities', fontsize=0)\n",
        "\n",
        "table = table_ax.table(\n",
        "    cellText=table_data.values,\n",
        "    colLabels=table_data.columns,\n",
        "    loc='center',\n",
        "    cellLoc='center'\n",
        ")\n",
        "table.auto_set_font_size(False)\n",
        "table.set_fontsize(8)\n",
        "table.scale(1, 1.2)\n",
        "pitch_counts = pitchFrame['Pitch_Type'].value_counts()\n",
        "pitch_types = pitch_counts.index\n",
        "counts = pitch_counts.values\n",
        "chart_ax = fig.add_axes([1.35, 0.6, 0.4, 0.4])\n",
        "chart_ax.bar(pitch_types, counts, color='skyblue', edgecolor='black')\n",
        "chart_ax.set_title(\"Pitch Type Count\", fontsize=8)\n",
        "chart_ax.tick_params(axis='x', rotation=45, labelsize=6)\n",
        "chart_ax.tick_params(axis='y', labelsize=6)\n",
        "chart_ax.set_ylabel(\"Count\", fontsize=6)\n",
        "\n",
        "if finalResult in ['Single', 'Double', 'Triple', 'Home Run', 'Out'] and finalResultProbabilities is not None:\n",
        "    fr_str = \", \".join([f\"{k}: {v:.3f}\" for k,v in finalResultProbabilities.items()])\n",
        "    table_ax.text(0.5, -0.5, f\"Final Result Probabilities: {fr_str}\",\n",
        "                  fontsize=8, ha='center', va='center', transform=table_ax.transAxes)\n",
        "else:\n",
        "    table_ax.text(0.5, -0.5, \"Final Result Probabilities: N/A\",\n",
        "                  fontsize=8, ha='center', va='center', transform=table_ax.transAxes)\n",
        "plt.show()"
      ],
      "metadata": {
        "id": "s-FSQfRrd5xA"
      },
      "execution_count": null,
      "outputs": []
    }
  ],
  "metadata": {
    "colab": {
      "provenance": []
    },
    "kernelspec": {
      "display_name": "Python 3",
      "name": "python3"
    },
    "language_info": {
      "name": "python"
    }
  },
  "nbformat": 4,
  "nbformat_minor": 0
}
